{
 "cells": [
  {
   "cell_type": "code",
   "execution_count": 19,
   "id": "7ccb7f7a-512d-430d-937a-a5bb3d69a222",
   "metadata": {},
   "outputs": [
    {
     "name": "stdin",
     "output_type": "stream",
     "text": [
      "Enter year:  2003\n",
      "Enter month:  3\n",
      "Enter Date:  18\n"
     ]
    },
    {
     "name": "stdout",
     "output_type": "stream",
     "text": [
      "     March 2003\n",
      "Mo Tu We Th Fr Sa Su\n",
      "                1  2\n",
      " 3  4  5  6  7  8  9\n",
      "10 11 12 13 14 15 16\n",
      "17 18 19 20 21 22 23\n",
      "24 25 26 27 28 29 30\n",
      "31\n",
      "\n",
      "2003 is not a leap year.\n",
      "The date 2003-03-18 falls on a Tuesday.\n"
     ]
    }
   ],
   "source": [
    "import calendar\n",
    "\n",
    "year = int(input(\"Enter year: \"))\n",
    "month = int(input(\"Enter month: \"))\n",
    "date = int(input(\"Enter Date: \"))\n",
    "\n",
    "if month < 1 and month > 12:\n",
    "     print(\"Error: Month must be between 1 and 12.\")\n",
    "else:\n",
    "    try:\n",
    "        weekday = calendar.weekday(year, month, date)\n",
    "        days = [\"Monday\", \"Tuesday\", \"Wednesday\", \"Thursday\", \"Friday\", \"Saturday\", \"Sunday\"]\n",
    "                \n",
    "        print(calendar.month(year, month))\n",
    "\n",
    "        if calendar.isleap(year):\n",
    "            print(f\"{year} is a leap year.\")\n",
    "        else:\n",
    "            print(f\"{year} is not a leap year.\")\n",
    "\n",
    "        print(f\"The date {year}-{month:02d}-{date:02d} falls on a {days[weekday]}.\")\n",
    "\n",
    "    except ValueError:\n",
    "        print(\"Error: Invalid date. Please check the input.\")"
   ]
  },
  {
   "cell_type": "code",
   "execution_count": null,
   "id": "089a7f0f-3f5b-4ccd-a8fd-9083cf70cc6e",
   "metadata": {},
   "outputs": [],
   "source": []
  }
 ],
 "metadata": {
  "kernelspec": {
   "display_name": "Python 3 (ipykernel)",
   "language": "python",
   "name": "python3"
  },
  "language_info": {
   "codemirror_mode": {
    "name": "ipython",
    "version": 3
   },
   "file_extension": ".py",
   "mimetype": "text/x-python",
   "name": "python",
   "nbconvert_exporter": "python",
   "pygments_lexer": "ipython3",
   "version": "3.12.4"
  }
 },
 "nbformat": 4,
 "nbformat_minor": 5
}
